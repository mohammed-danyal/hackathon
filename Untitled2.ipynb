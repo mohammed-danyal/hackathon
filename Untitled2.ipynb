{
 "cells": [
  {
   "cell_type": "markdown",
   "id": "de177b58",
   "metadata": {},
   "source": [
    "printf('hello worl');\n",
    "\n",
    "\n",
    "\n",
    "import numpy as np\n",
    "ar eyou high enough to dry \n",
    "\n",
    "let's do it\n",
    "wtf\n",
    "noefsgv7sdyifadovichsahsfdsdfusdbuidsfudsbuisvdubavdd\n",
    "asdfdooihdf\n",
    "let it be\n"
   ]
  }
 ],
 "metadata": {
  "language_info": {
   "name": "python"
  }
 },
 "nbformat": 4,
 "nbformat_minor": 5
}
